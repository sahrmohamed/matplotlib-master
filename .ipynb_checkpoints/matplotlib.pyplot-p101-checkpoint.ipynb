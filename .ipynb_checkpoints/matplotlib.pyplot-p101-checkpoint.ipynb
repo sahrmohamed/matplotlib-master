{
 "cells": [
  {
   "cell_type": "code",
   "execution_count": null,
   "metadata": {},
   "outputs": [],
   "source": [
    "import numpy as np\n",
    "import pandas as pd\n",
    "import matplotlib.pyplot as plt"
   ]
  },
  {
   "cell_type": "markdown",
   "metadata": {},
   "source": [
    "**PIE CHARTS**"
   ]
  },
  {
   "cell_type": "code",
   "execution_count": null,
   "metadata": {},
   "outputs": [],
   "source": [
    "race = pd.read_csv('race.txt', delimiter=',')\n",
    "totalWhite = race[race.race == 'white']['count'].sum()\n",
    "totalBlack = race[race.race == 'black']['count'].sum()\n",
    "totalAsian = race[race.race == 'asian']['count'].sum()\n",
    "totalLatino = race[race.race == 'latino']['count'].sum()\n",
    "\n",
    "labels = ['White', 'Black', 'Asian', 'Latino']\n",
    "plt.pie([totalBlack, totalAsian, totalLatino, totalWhite],explode=(0.1, 0.1,0.1,0.1),labels=labels, autopct='%.2f%%')\n",
    "plt.show()"
   ]
  },
  {
   "cell_type": "markdown",
   "metadata": {},
   "source": [
    "**BAR CHART**"
   ]
  },
  {
   "cell_type": "code",
   "execution_count": null,
   "metadata": {},
   "outputs": [],
   "source": [
    "dep = pd.read_csv('dep.txt', delimiter=',')\n",
    "xval = np.arange(5)\n",
    "plt.style.use('ggplot')\n",
    "plt.bar(xval, dep.maleemp,width=0.45, label='Male')\n",
    "plt.bar(xval + 0.45, dep.femaleemp,width=0.45, color='purple', label='Female')\n",
    "plt.ylabel('Total Employees')\n",
    "plt.xticks(xval + 0.45/2,(['Eng','teach','medicine','politics','law' ]))\n",
    "plt.legend()\n",
    "plt.show()"
   ]
  },
  {
   "cell_type": "code",
   "execution_count": null,
   "metadata": {},
   "outputs": [],
   "source": [
    "xla = ['Eng','teach','medicine','politics','law']\n",
    "plt.style.use('ggplot')\n",
    "plt.bar(xla, dep.maleemp,width=0.45, label='Male', bottom=dep.femaleemp)\n",
    "plt.bar(xla, dep.femaleemp,width=0.45, color='purple', label='Female')\n",
    "plt.ylabel('Total Employees')\n",
    "plt.legend()\n",
    "plt.show()"
   ]
  },
  {
   "cell_type": "code",
   "execution_count": null,
   "metadata": {},
   "outputs": [],
   "source": [
    "val = np.random.randint(1,5, 100)\n",
    "plt.hist(val)\n",
    "plt.show()"
   ]
  },
  {
   "cell_type": "code",
   "execution_count": 1,
   "metadata": {},
   "outputs": [
    {
     "name": "stderr",
     "output_type": "stream",
     "text": [
      "WARNING: Retrying (Retry(total=4, connect=None, read=None, redirect=None, status=None)) after connection broken by 'NewConnectionError('<pip._vendor.urllib3.connection.HTTPSConnection object at 0x000001E73609A700>: Failed to establish a new connection: [Errno 11001] getaddrinfo failed')': /simple/sql/\n",
      "WARNING: Retrying (Retry(total=3, connect=None, read=None, redirect=None, status=None)) after connection broken by 'NewConnectionError('<pip._vendor.urllib3.connection.HTTPSConnection object at 0x000001E73609A5B0>: Failed to establish a new connection: [Errno 11001] getaddrinfo failed')': /simple/sql/\n",
      "WARNING: Retrying (Retry(total=2, connect=None, read=None, redirect=None, status=None)) after connection broken by 'NewConnectionError('<pip._vendor.urllib3.connection.HTTPSConnection object at 0x000001E73609A4C0>: Failed to establish a new connection: [Errno 11001] getaddrinfo failed')': /simple/sql/\n",
      "WARNING: Retrying (Retry(total=1, connect=None, read=None, redirect=None, status=None)) after connection broken by 'NewConnectionError('<pip._vendor.urllib3.connection.HTTPSConnection object at 0x000001E73609AF40>: Failed to establish a new connection: [Errno 11001] getaddrinfo failed')': /simple/sql/\n",
      "WARNING: Retrying (Retry(total=0, connect=None, read=None, redirect=None, status=None)) after connection broken by 'NewConnectionError('<pip._vendor.urllib3.connection.HTTPSConnection object at 0x000001E7360C2130>: Failed to establish a new connection: [Errno 11001] getaddrinfo failed')': /simple/sql/\n",
      "ERROR: Could not find a version that satisfies the requirement sql (from versions: none)\n",
      "ERROR: No matching distribution found for sql\n"
     ]
    }
   ],
   "source": [
    "!pip install sql"
   ]
  },
  {
   "cell_type": "code",
   "execution_count": null,
   "metadata": {},
   "outputs": [],
   "source": []
  }
 ],
 "metadata": {
  "kernelspec": {
   "display_name": "Python 3 (ipykernel)",
   "language": "python",
   "name": "python3"
  },
  "language_info": {
   "codemirror_mode": {
    "name": "ipython",
    "version": 3
   },
   "file_extension": ".py",
   "mimetype": "text/x-python",
   "name": "python",
   "nbconvert_exporter": "python",
   "pygments_lexer": "ipython3",
   "version": "3.9.12"
  },
  "vscode": {
   "interpreter": {
    "hash": "b193a998edadf7fc15e97b0d8c59d125851a7e8560f778592e10c4376dedf734"
   }
  }
 },
 "nbformat": 4,
 "nbformat_minor": 2
}
